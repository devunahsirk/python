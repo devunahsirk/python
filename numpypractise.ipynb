{
 "cells": [
  {
   "cell_type": "code",
   "execution_count": 89,
   "id": "d3498e1c-c889-4015-82c5-ce30812bd57a",
   "metadata": {},
   "outputs": [],
   "source": [
    "import numpy as np"
   ]
  },
  {
   "cell_type": "code",
   "execution_count": 90,
   "id": "5d7fd4fa-fe13-49a5-9a72-685e8035d9a1",
   "metadata": {},
   "outputs": [],
   "source": [
    "arr=np.array([[1,2,3,4,5]],np.int8) #usenp.intx,where x is datavalue which can be adjusted \n",
    "arr1=np.array([5,6,7,8])"
   ]
  },
  {
   "cell_type": "code",
   "execution_count": 91,
   "id": "ceb4af47-5849-4db8-95a8-de271e596982",
   "metadata": {},
   "outputs": [
    {
     "data": {
      "text/plain": [
       "2"
      ]
     },
     "execution_count": 91,
     "metadata": {},
     "output_type": "execute_result"
    }
   ],
   "source": [
    "arr[0,1]"
   ]
  },
  {
   "cell_type": "code",
   "execution_count": 92,
   "id": "c6dd9f10-cbb7-46d1-8130-0f266f181e27",
   "metadata": {},
   "outputs": [
    {
     "data": {
      "text/plain": [
       "6"
      ]
     },
     "execution_count": 92,
     "metadata": {},
     "output_type": "execute_result"
    }
   ],
   "source": [
    "arr1[1]"
   ]
  },
  {
   "cell_type": "code",
   "execution_count": null,
   "id": "2509f41e-8c6f-4b21-b0f0-5d1629cd6a2f",
   "metadata": {},
   "outputs": [],
   "source": []
  },
  {
   "cell_type": "markdown",
   "id": "574c39cc-b915-40b6-908c-378694558015",
   "metadata": {},
   "source": [
    "## Different attributes are :\n",
    "## 1.arr.shape\n",
    "## 2.arr.size\n",
    "## 3.arr.dtype\n",
    "## 4.print(len(arr))\n"
   ]
  },
  {
   "cell_type": "code",
   "execution_count": 93,
   "id": "6379b805-e562-4c51-b038-0d781af89396",
   "metadata": {},
   "outputs": [
    {
     "data": {
      "text/plain": [
       "(1, 5)"
      ]
     },
     "execution_count": 93,
     "metadata": {},
     "output_type": "execute_result"
    }
   ],
   "source": [
    "arr.shape"
   ]
  },
  {
   "cell_type": "code",
   "execution_count": 94,
   "id": "401b033b-a74e-4c32-8067-db5188291f1a",
   "metadata": {},
   "outputs": [
    {
     "data": {
      "text/plain": [
       "4"
      ]
     },
     "execution_count": 94,
     "metadata": {},
     "output_type": "execute_result"
    }
   ],
   "source": [
    "arr1.size"
   ]
  },
  {
   "cell_type": "code",
   "execution_count": 95,
   "id": "6b11d688-93cb-4bc0-ad5c-fe13d5c38528",
   "metadata": {},
   "outputs": [
    {
     "data": {
      "text/plain": [
       "dtype('int32')"
      ]
     },
     "execution_count": 95,
     "metadata": {},
     "output_type": "execute_result"
    }
   ],
   "source": [
    "arr1.dtype"
   ]
  },
  {
   "cell_type": "code",
   "execution_count": 96,
   "id": "f5d5e499-44ee-4052-9fed-8acbee181716",
   "metadata": {},
   "outputs": [
    {
     "data": {
      "text/plain": [
       "array([ 5, 99,  7,  8])"
      ]
     },
     "execution_count": 96,
     "metadata": {},
     "output_type": "execute_result"
    }
   ],
   "source": [
    "arr1[1]=99\n",
    "arr1"
   ]
  },
  {
   "cell_type": "code",
   "execution_count": 97,
   "id": "a5ab951a-cc0b-4c57-9dff-f5581862b01c",
   "metadata": {},
   "outputs": [
    {
     "data": {
      "text/plain": [
       "array([[1, 2, 3],\n",
       "       [4, 5, 6]])"
      ]
     },
     "execution_count": 97,
     "metadata": {},
     "output_type": "execute_result"
    }
   ],
   "source": [
    "listarr=np.array([[1,2,3],[4,5,6]])\n",
    "listarr"
   ]
  },
  {
   "cell_type": "code",
   "execution_count": 98,
   "id": "dec314e8-4b03-40de-86c5-f354f807c2dc",
   "metadata": {},
   "outputs": [
    {
     "data": {
      "text/plain": [
       "6"
      ]
     },
     "execution_count": 98,
     "metadata": {},
     "output_type": "execute_result"
    }
   ],
   "source": [
    "listarr.size"
   ]
  },
  {
   "cell_type": "code",
   "execution_count": 99,
   "id": "5b22ddf8-2595-4fbb-9bc8-0d3f0347a862",
   "metadata": {},
   "outputs": [
    {
     "data": {
      "text/plain": [
       "array([[0., 0., 0., 0., 0.],\n",
       "       [0., 0., 0., 0., 0.]])"
      ]
     },
     "execution_count": 99,
     "metadata": {},
     "output_type": "execute_result"
    }
   ],
   "source": [
    "zeroarr=np.zeros([2,5])\n",
    "zeroarr"
   ]
  },
  {
   "cell_type": "code",
   "execution_count": 100,
   "id": "0e09cbec-9bbb-4ad1-9db5-002067f2fbd8",
   "metadata": {},
   "outputs": [
    {
     "data": {
      "text/plain": [
       "array([ 0,  1,  2,  3,  4,  5,  6,  7,  8,  9, 10, 11])"
      ]
     },
     "execution_count": 100,
     "metadata": {},
     "output_type": "execute_result"
    }
   ],
   "source": [
    "loll=np.arange(12)\n",
    "loll"
   ]
  },
  {
   "cell_type": "code",
   "execution_count": 101,
   "id": "05c02a5c-3b22-4f14-8062-e013f33ea001",
   "metadata": {},
   "outputs": [
    {
     "data": {
      "text/plain": [
       "array([1.        , 2.33333333, 3.66666667, 5.        ])"
      ]
     },
     "execution_count": 101,
     "metadata": {},
     "output_type": "execute_result"
    }
   ],
   "source": [
    "ball=np.linspace(1,5,4) #from 1 to 5 i need 4 equal distance numbers\n",
    "ball"
   ]
  },
  {
   "cell_type": "markdown",
   "id": "fea5fc8e-51e3-4054-9ec0-538f5ba399b5",
   "metadata": {},
   "source": [
    "#numpy.empty_like: Return a new array with the same shape and type as a given array.`"
   ]
  },
  {
   "cell_type": "code",
   "execution_count": 102,
   "id": "233c3e1a-da1b-40ab-a58e-8d62422bfe2a",
   "metadata": {},
   "outputs": [
    {
     "data": {
      "text/plain": [
       "array([[1.12258401e-311, 3.16202013e-322, 0.00000000e+000,\n",
       "        0.00000000e+000],\n",
       "       [0.00000000e+000, 1.78636887e-051, 1.47716159e-075,\n",
       "        7.60095606e-042],\n",
       "       [6.45512136e+170, 2.59733920e-056, 2.17699580e-076,\n",
       "        1.38050209e-071]])"
      ]
     },
     "execution_count": 102,
     "metadata": {},
     "output_type": "execute_result"
    }
   ],
   "source": [
    "arr2=np.empty((3,4))\n",
    "arr2"
   ]
  },
  {
   "cell_type": "code",
   "execution_count": 103,
   "id": "85b6db3f-3ab1-4785-89f3-3fe3bc7fdc02",
   "metadata": {},
   "outputs": [
    {
     "data": {
      "text/plain": [
       "array([1.        , 2.33333333, 3.66666667, 5.        ])"
      ]
     },
     "execution_count": 103,
     "metadata": {},
     "output_type": "execute_result"
    }
   ],
   "source": [
    "emp_like=np.empty_like(ball)\n",
    "emp_like"
   ]
  },
  {
   "cell_type": "markdown",
   "id": "64aded71-b386-4f2d-b732-738a24daac5a",
   "metadata": {},
   "source": [
    "## The np.arange function from NumPy is used to create arrays with evenly spaced values within a specified interval. "
   ]
  },
  {
   "cell_type": "code",
   "execution_count": 104,
   "id": "b67eb651-3894-4603-ac9d-5ef9ff0a02a3",
   "metadata": {},
   "outputs": [],
   "source": [
    "arr=np.arange(99)"
   ]
  },
  {
   "cell_type": "code",
   "execution_count": 105,
   "id": "b56e3c66-884e-4931-97ed-b7dc53b56acb",
   "metadata": {},
   "outputs": [
    {
     "data": {
      "text/plain": [
       "array([[ 0,  1,  2,  3,  4,  5,  6,  7,  8,  9, 10, 11, 12, 13, 14, 15,\n",
       "        16, 17, 18, 19, 20, 21, 22, 23, 24, 25, 26, 27, 28, 29, 30, 31,\n",
       "        32],\n",
       "       [33, 34, 35, 36, 37, 38, 39, 40, 41, 42, 43, 44, 45, 46, 47, 48,\n",
       "        49, 50, 51, 52, 53, 54, 55, 56, 57, 58, 59, 60, 61, 62, 63, 64,\n",
       "        65],\n",
       "       [66, 67, 68, 69, 70, 71, 72, 73, 74, 75, 76, 77, 78, 79, 80, 81,\n",
       "        82, 83, 84, 85, 86, 87, 88, 89, 90, 91, 92, 93, 94, 95, 96, 97,\n",
       "        98]])"
      ]
     },
     "execution_count": 105,
     "metadata": {},
     "output_type": "execute_result"
    }
   ],
   "source": [
    "arr.reshape(3,33)"
   ]
  },
  {
   "cell_type": "code",
   "execution_count": 106,
   "id": "fa91a5dd-cb8f-4d5f-a926-f55085b3a128",
   "metadata": {},
   "outputs": [],
   "source": [
    "## ravel = ravel() function to flatten an array and return a 1-D array"
   ]
  },
  {
   "cell_type": "code",
   "execution_count": 107,
   "id": "285d96d1-5dba-4114-ae51-2bf589bf187a",
   "metadata": {},
   "outputs": [
    {
     "data": {
      "text/plain": [
       "array([ 0,  1,  2,  3,  4,  5,  6,  7,  8,  9, 10, 11, 12, 13, 14, 15, 16,\n",
       "       17, 18, 19, 20, 21, 22, 23, 24, 25, 26, 27, 28, 29, 30, 31, 32, 33,\n",
       "       34, 35, 36, 37, 38, 39, 40, 41, 42, 43, 44, 45, 46, 47, 48, 49, 50,\n",
       "       51, 52, 53, 54, 55, 56, 57, 58, 59, 60, 61, 62, 63, 64, 65, 66, 67,\n",
       "       68, 69, 70, 71, 72, 73, 74, 75, 76, 77, 78, 79, 80, 81, 82, 83, 84,\n",
       "       85, 86, 87, 88, 89, 90, 91, 92, 93, 94, 95, 96, 97, 98])"
      ]
     },
     "execution_count": 107,
     "metadata": {},
     "output_type": "execute_result"
    }
   ],
   "source": [
    "arr=arr.ravel()\n",
    "arr"
   ]
  },
  {
   "cell_type": "code",
   "execution_count": 108,
   "id": "e5e65467-ab85-4f14-8c18-dbf70ca8873d",
   "metadata": {},
   "outputs": [
    {
     "data": {
      "text/plain": [
       "array([[1, 2, 3],\n",
       "       [4, 5, 6],\n",
       "       [7, 8, 9]])"
      ]
     },
     "execution_count": 108,
     "metadata": {},
     "output_type": "execute_result"
    }
   ],
   "source": [
    "x=[[1,2,3],[4,5,6],[7,8,9]]\n",
    "x=np.array(x)\n",
    "x"
   ]
  },
  {
   "cell_type": "markdown",
   "id": "29b3b85e-12c7-4a1b-bcb8-1cd3ee142218",
   "metadata": {},
   "source": [
    "# sum(axis =0) means sum of 1,4,7 || sum of 2,5,8 || sum of 3,6,9\n",
    "# sum(axis =1) means sum of 1,2,3 || sum of 4,5,6 || sum of 7,8,9 "
   ]
  },
  {
   "cell_type": "code",
   "execution_count": 110,
   "id": "cc254c20-b7be-49ea-8134-17e2b6ca6c1c",
   "metadata": {},
   "outputs": [
    {
     "data": {
      "text/plain": [
       "array([12, 15, 18])"
      ]
     },
     "execution_count": 110,
     "metadata": {},
     "output_type": "execute_result"
    }
   ],
   "source": [
    "x.sum(axis=0)"
   ]
  },
  {
   "cell_type": "code",
   "execution_count": 111,
   "id": "e88b470d-70f7-4fbd-9031-9cff249f9076",
   "metadata": {},
   "outputs": [
    {
     "data": {
      "text/plain": [
       "array([ 6, 15, 24])"
      ]
     },
     "execution_count": 111,
     "metadata": {},
     "output_type": "execute_result"
    }
   ],
   "source": [
    "x.sum(axis=1)"
   ]
  },
  {
   "cell_type": "code",
   "execution_count": 112,
   "id": "b06f141d-56fe-4cc7-a0a6-8b2385da586e",
   "metadata": {},
   "outputs": [
    {
     "data": {
      "text/plain": [
       "array([[1, 4, 7],\n",
       "       [2, 5, 8],\n",
       "       [3, 6, 9]])"
      ]
     },
     "execution_count": 112,
     "metadata": {},
     "output_type": "execute_result"
    }
   ],
   "source": [
    "x.T # x.T is used to print the transpose of the array named \"x\""
   ]
  },
  {
   "cell_type": "code",
   "execution_count": 114,
   "id": "672ff412-82cb-49bb-a8d1-1b4e9e39feb8",
   "metadata": {},
   "outputs": [
    {
     "name": "stdout",
     "output_type": "stream",
     "text": [
      "1\n",
      "2\n",
      "3\n",
      "4\n",
      "5\n",
      "6\n",
      "7\n",
      "8\n",
      "9\n"
     ]
    }
   ],
   "source": [
    "x.flat\n",
    "for item in x.flat:\n",
    "    print(item)"
   ]
  },
  {
   "cell_type": "code",
   "execution_count": 115,
   "id": "83fdf369-868c-417f-82fd-1e47de91da8a",
   "metadata": {},
   "outputs": [
    {
     "data": {
      "text/plain": [
       "3"
      ]
     },
     "execution_count": 115,
     "metadata": {},
     "output_type": "execute_result"
    }
   ],
   "source": [
    "one=np.array([1,2,3,66,6,0])\n",
    "one.argmax() #returns the index of maximum value"
   ]
  },
  {
   "cell_type": "code",
   "execution_count": 116,
   "id": "956b0dec-cb96-4e7f-8e25-0d7ef0baf34f",
   "metadata": {},
   "outputs": [
    {
     "data": {
      "text/plain": [
       "5"
      ]
     },
     "execution_count": 116,
     "metadata": {},
     "output_type": "execute_result"
    }
   ],
   "source": [
    "one.argmin() #returns the index of minimum value"
   ]
  },
  {
   "cell_type": "code",
   "execution_count": 118,
   "id": "e7a85efc-a30c-492d-a33b-d33ef04a6c45",
   "metadata": {},
   "outputs": [
    {
     "data": {
      "text/plain": [
       "array([ 0,  1,  2,  3,  6, 66])"
      ]
     },
     "execution_count": 118,
     "metadata": {},
     "output_type": "execute_result"
    }
   ],
   "source": [
    "np.sort(one) #to sort an arry`"
   ]
  },
  {
   "cell_type": "markdown",
   "id": "ee6ce57e-8fcf-48d2-b1dc-cb49dbf82496",
   "metadata": {},
   "source": [
    "## sum of array"
   ]
  },
  {
   "cell_type": "code",
   "execution_count": 123,
   "id": "4ab70207-9d2c-437e-826a-9e7257802989",
   "metadata": {},
   "outputs": [],
   "source": [
    "a=np.array([[1,2,3],[4,5,6],[1,2,1]])\n",
    "b=np.array([[2,3,4],[7,8,9],[1,2,1]])"
   ]
  },
  {
   "cell_type": "code",
   "execution_count": 124,
   "id": "de5747aa-3182-4a9a-bf9c-8bbc3cc1f12b",
   "metadata": {},
   "outputs": [
    {
     "data": {
      "text/plain": [
       "array([[ 3,  5,  7],\n",
       "       [11, 13, 15],\n",
       "       [ 2,  4,  2]])"
      ]
     },
     "execution_count": 124,
     "metadata": {},
     "output_type": "execute_result"
    }
   ],
   "source": [
    "a+b"
   ]
  },
  {
   "cell_type": "code",
   "execution_count": null,
   "id": "45e303a6-a1e6-4151-9a0e-30541aacf7af",
   "metadata": {},
   "outputs": [],
   "source": []
  }
 ],
 "metadata": {
  "kernelspec": {
   "display_name": "Python 3 (ipykernel)",
   "language": "python",
   "name": "python3"
  },
  "language_info": {
   "codemirror_mode": {
    "name": "ipython",
    "version": 3
   },
   "file_extension": ".py",
   "mimetype": "text/x-python",
   "name": "python",
   "nbconvert_exporter": "python",
   "pygments_lexer": "ipython3",
   "version": "3.11.4"
  }
 },
 "nbformat": 4,
 "nbformat_minor": 5
}
