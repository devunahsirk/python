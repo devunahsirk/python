{
 "cells": [
  {
   "cell_type": "code",
   "execution_count": 8,
   "id": "d65c79be-dacc-4b1d-b903-15e2819e95b0",
   "metadata": {},
   "outputs": [],
   "source": [
    "import numpy as np\n",
    "import scipy"
   ]
  },
  {
   "cell_type": "markdown",
   "id": "56949d38-0e74-453f-acf6-f72b8cddf311",
   "metadata": {},
   "source": [
    "## 1.Creating a Vector"
   ]
  },
  {
   "cell_type": "code",
   "execution_count": 9,
   "id": "1fa783cf-190f-41aa-b72b-8a0eb676b8e8",
   "metadata": {},
   "outputs": [],
   "source": [
    "#Create a vector as a Row\n",
    "vector_row = np.array([1,2,3])\n",
    "\n",
    "#Create vector as a Column\n",
    "vector_column = np.array([[1],[2],[3]])"
   ]
  },
  {
   "cell_type": "code",
   "execution_count": 10,
   "id": "c456cb47-bd5e-4037-adcf-8fa88ef57bbb",
   "metadata": {},
   "outputs": [
    {
     "data": {
      "text/plain": [
       "array([1, 2, 3])"
      ]
     },
     "execution_count": 10,
     "metadata": {},
     "output_type": "execute_result"
    }
   ],
   "source": [
    "vector_row"
   ]
  },
  {
   "cell_type": "code",
   "execution_count": 11,
   "id": "4e81b1a3-f539-46a6-95d6-0f773d39f3c4",
   "metadata": {},
   "outputs": [
    {
     "data": {
      "text/plain": [
       "array([[1],\n",
       "       [2],\n",
       "       [3]])"
      ]
     },
     "execution_count": 11,
     "metadata": {},
     "output_type": "execute_result"
    }
   ],
   "source": [
    "vector_column"
   ]
  },
  {
   "cell_type": "markdown",
   "id": "cabd6b7a-45a2-4c74-aff4-b0a4c269ec89",
   "metadata": {},
   "source": [
    "## 2. Creating a Matrix"
   ]
  },
  {
   "cell_type": "code",
   "execution_count": 12,
   "id": "450e852b-da60-4d02-af28-9ed5e6e4869c",
   "metadata": {},
   "outputs": [
    {
     "name": "stdout",
     "output_type": "stream",
     "text": [
      "[[1 2 3]\n",
      " [4 5 6]]\n"
     ]
    }
   ],
   "source": [
    "matrix = np.array([[1,2,3],[4,5,6]])\n",
    "print(matrix)"
   ]
  },
  {
   "cell_type": "markdown",
   "id": "2bd9230d-cbcf-41b1-806d-efa0a7d463e4",
   "metadata": {},
   "source": [
    "## 3. Creating a Sparse Matrix"
   ]
  },
  {
   "cell_type": "code",
   "execution_count": 13,
   "id": "e24860da-691b-4643-9f8e-629021aefab1",
   "metadata": {},
   "outputs": [
    {
     "name": "stdout",
     "output_type": "stream",
     "text": [
      "[[0 0]\n",
      " [0 1]\n",
      " [3 0]]\n"
     ]
    }
   ],
   "source": [
    "#Create a Matrix\n",
    "matrix = np.array([[0,0],[0,1],[3,0]])\n",
    "print(matrix)\n",
    "\n",
    "#Create Compressed Sparse Row(CSR) matrix\n",
    "#matrix_sparse = sparse.csr_matrix(matrix) #doesnt work because scipy module cant be imported\n",
    "#print(matrix_sparse)"
   ]
  },
  {
   "cell_type": "markdown",
   "id": "d85749ab-c011-4fed-b959-1d43c0eafce5",
   "metadata": {},
   "source": [
    "## 4. Selecting Elements"
   ]
  },
  {
   "cell_type": "code",
   "execution_count": 14,
   "id": "c6b27fa7-c0a1-4980-af94-ebda8d737431",
   "metadata": {},
   "outputs": [
    {
     "name": "stdout",
     "output_type": "stream",
     "text": [
      "a: [[1 2 3]\n",
      " [4 5 6]\n",
      " [7 8 9]]\n",
      "b: 3\n",
      "c: 5\n",
      "d: [1 2 3 4 5 6]\n",
      "e: [1 2 3]\n",
      "f: [4 5 6]\n",
      "g: 6\n",
      "h: [[1 2 3]\n",
      " [4 5 6]]\n",
      "i: [[2]\n",
      " [5]\n",
      " [8]]\n"
     ]
    }
   ],
   "source": [
    "#Create a vector as a Row\n",
    "vector_row = np.array([ 1,2,3,4,5,6 ])\n",
    "\n",
    "#Create a Matrix\n",
    "matrix = np.array([[1,2,3],[4,5,6],[7,8,9]])\n",
    "print(\"a:\",matrix)\n",
    "\n",
    "#Select 3rd element of Vector\n",
    "print(\"b:\",vector_row[2])\n",
    "\n",
    "#Select 2nd row 2nd column\n",
    "print(\"c:\",matrix[1,1])\n",
    "#Select all elements of a vector\n",
    "print(\"d:\",vector_row[:])\n",
    "#Select everything up to and including the 3rd element\n",
    "print(\"e:\",vector_row[:3])\n",
    "#Select the everything after the 3rd element\n",
    "print(\"f:\",vector_row[3:])\n",
    "#Select the last element\n",
    "print(\"g:\",vector_row[-1])\n",
    "#Select the first 2 rows and all the columns of the matrix\n",
    "print(\"h:\",matrix[:2,:])\n",
    "#Select all rows and the 2nd column of the matrix\n",
    "print(\"i:\",matrix[:,1:2])"
   ]
  },
  {
   "cell_type": "markdown",
   "id": "caa28ac9-691f-464a-bff0-59e4d4a299c0",
   "metadata": {},
   "source": [
    "## 5. Describing a Matrix"
   ]
  },
  {
   "cell_type": "code",
   "execution_count": 15,
   "id": "c65d67fc-d529-4019-b4fb-7b82e18d95fa",
   "metadata": {},
   "outputs": [
    {
     "name": "stdout",
     "output_type": "stream",
     "text": [
      "(3, 3)\n",
      "9\n",
      "2\n"
     ]
    }
   ],
   "source": [
    "#Create a Matrix\n",
    "matrix = np.array([[1,2,3],[4,5,6],[7,8,9]])\n",
    "#View the Number of Rows and Columns\n",
    "print(matrix.shape)\n",
    "#View the number of elements (rows*columns)\n",
    "print(matrix.size)\n",
    "#View the number of Dimensions(2 in this case)\n",
    "print(matrix.ndim)"
   ]
  },
  {
   "cell_type": "markdown",
   "id": "d7275516-78b5-46f7-b1a1-6429a88c12f6",
   "metadata": {},
   "source": [
    "## 6. Applying operations to elements"
   ]
  },
  {
   "cell_type": "code",
   "execution_count": 16,
   "id": "d1a20035-a6a1-4f9e-87a0-f2c31f72f8e9",
   "metadata": {},
   "outputs": [
    {
     "name": "stdout",
     "output_type": "stream",
     "text": [
      "[[1 2 3]\n",
      " [4 5 6]\n",
      " [7 8 9]]\n",
      "[[101 102 103]\n",
      " [104 105 106]\n",
      " [107 108 109]]\n"
     ]
    }
   ],
   "source": [
    "#Create a Matrix\n",
    "matrix = np.array([[1,2,3],[4,5,6],[7,8,9]])\n",
    "print(matrix)\n",
    "\n",
    "#Create a function that adds 100 to something\n",
    "add_100 =lambda i: i+100\n",
    "\n",
    "#Convert it into a vectorized function\n",
    "vectorized_add_100= np.vectorize(add_100)\n",
    "\n",
    "#Apply function to all elements in matrix\n",
    "print(vectorized_add_100(matrix))"
   ]
  },
  {
   "cell_type": "markdown",
   "id": "0d4b9fde-4de9-4c3b-9145-609316319c31",
   "metadata": {},
   "source": [
    "## 7. Finding the max and min values"
   ]
  },
  {
   "cell_type": "code",
   "execution_count": 17,
   "id": "16f7b3fa-fae8-4143-80c1-379c3c97e700",
   "metadata": {},
   "outputs": [
    {
     "name": "stdout",
     "output_type": "stream",
     "text": [
      "[[1 2 3]\n",
      " [4 5 6]\n",
      " [7 8 9]]\n",
      "The max element in th matrix is: 9\n",
      "The min element in th matrix is: 1\n",
      "The min element in each column are: [7 8 9]\n",
      "The max element in each column are: [3 6 9]\n"
     ]
    }
   ],
   "source": [
    "#Create a Matrix\n",
    "matrix = np.array([[1,2,3],[4,5,6],[7,8,9]])\n",
    "print(matrix)\n",
    "#Return the max element\n",
    "print(\"The max element in th matrix is:\",np.max(matrix))\n",
    "#Return the min element\n",
    "print(\"The min element in th matrix is:\",np.min(matrix))\n",
    "#To find the max element in each column\n",
    "print(\"The min element in each column are:\",np.max(matrix,axis=0))\n",
    "#To find the max element in each row\n",
    "print(\"The max element in each column are:\",np.max(matrix,axis=1))"
   ]
  },
  {
   "cell_type": "markdown",
   "id": "52c43d7f-6da3-4aac-b28e-b4c9f3140938",
   "metadata": {},
   "source": [
    "## 8. Calculating Average, Variance and Standard deviation"
   ]
  },
  {
   "cell_type": "code",
   "execution_count": 18,
   "id": "a8c698b2-3bf5-42a4-8319-2df19274175c",
   "metadata": {},
   "outputs": [
    {
     "name": "stdout",
     "output_type": "stream",
     "text": [
      "[[1 2 3]\n",
      " [4 5 6]\n",
      " [7 8 9]]\n",
      "5.0\n",
      "2.581988897471611\n",
      "6.666666666666667\n"
     ]
    }
   ],
   "source": [
    "#Create a Matrix\n",
    "matrix = np.array([[1,2,3],[4,5,6],[7,8,9]])\n",
    "print(matrix)\n",
    "#Mean\n",
    "print(np.mean(matrix))\n",
    "#Standard Dev.\n",
    "print(np.std(matrix))\n",
    "#Variance\n",
    "print(np.var(matrix))"
   ]
  },
  {
   "cell_type": "markdown",
   "id": "0f8402cb-ff5e-4d25-bfa1-d3748caa0ca1",
   "metadata": {},
   "source": [
    "## 9. Generating Random values"
   ]
  },
  {
   "cell_type": "code",
   "execution_count": 19,
   "id": "9eaa180e-b834-4995-97e6-dffb9469c9eb",
   "metadata": {},
   "outputs": [
    {
     "name": "stdout",
     "output_type": "stream",
     "text": [
      "[5 8 9]\n",
      "[-0.60434568  0.10224438 -1.21187015]\n"
     ]
    }
   ],
   "source": [
    "np.random.seed(1)\n",
    "#Generate 3 random integers b/w 1 and 10\n",
    "print(np.random.randint(0,11,3))\n",
    "#Draw 3 numbers from a normal distribution with mean 1.0 and std 2.0\n",
    "print(np.random.normal(1.0,2.0,3))"
   ]
  },
  {
   "cell_type": "code",
   "execution_count": null,
   "id": "41e4f8b4-80fc-4575-aa13-9add9ff67f2a",
   "metadata": {},
   "outputs": [],
   "source": []
  }
 ],
 "metadata": {
  "kernelspec": {
   "display_name": "Python 3 (ipykernel)",
   "language": "python",
   "name": "python3"
  },
  "language_info": {
   "codemirror_mode": {
    "name": "ipython",
    "version": 3
   },
   "file_extension": ".py",
   "mimetype": "text/x-python",
   "name": "python",
   "nbconvert_exporter": "python",
   "pygments_lexer": "ipython3",
   "version": "3.11.4"
  }
 },
 "nbformat": 4,
 "nbformat_minor": 5
}
